{
 "cells": [
  {
   "cell_type": "code",
   "execution_count": 6,
   "metadata": {},
   "outputs": [
    {
     "name": "stdout",
     "output_type": "stream",
     "text": [
      "Введите фразу 1:tr\n",
      "Введите фразу 2:erere\n",
      "tr\n",
      "erere\n",
      "Фраза 2 длинне Фразы 1\n"
     ]
    }
   ],
   "source": [
    "phrase_1 = input('Введите фразу 1:')\n",
    "phrase_2 = input('Введите фразу 2:')\n",
    "print(phrase_1)\n",
    "print(phrase_2)\n",
    "if len(phrase_1) > len(phrase_2):\n",
    "    print('Фраза 1 длинне Фразы 2')\n",
    "elif len(phrase_1) < len(phrase_2):\n",
    "    print('Фраза 2 длинне Фразы 1')\n",
    "elif len(phrase_1) == len(phrase_2):\n",
    "    print('Фразы равной длины')"
   ]
  },
  {
   "cell_type": "code",
   "execution_count": null,
   "metadata": {},
   "outputs": [],
   "source": []
  }
 ],
 "metadata": {
  "kernelspec": {
   "display_name": "Python 3",
   "language": "python",
   "name": "python3"
  },
  "language_info": {
   "codemirror_mode": {
    "name": "ipython",
    "version": 3
   },
   "file_extension": ".py",
   "mimetype": "text/x-python",
   "name": "python",
   "nbconvert_exporter": "python",
   "pygments_lexer": "ipython3",
   "version": "3.8.5"
  }
 },
 "nbformat": 4,
 "nbformat_minor": 4
}
