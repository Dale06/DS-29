{
 "cells": [
  {
   "cell_type": "code",
   "execution_count": 13,
   "metadata": {},
   "outputs": [
    {
     "name": "stdout",
     "output_type": "stream",
     "text": [
      "Введите день рождения: 14\n",
      "Введите месяц рождения: Март\n",
      "Ваш знак зодиака: Рыбы\n"
     ]
    }
   ],
   "source": [
    "day = int (input ('Введите день рождения: '))\n",
    "month = input ('Введите месяц рождения: ')\n",
    "if month == 'Март'and 21 <= day <= 31 or month == 'Апрель' and 0 <= day <= 20:\n",
    "        print ('Ваш знак зодиака: Овен')\n",
    "elif month == 'Апрель'and 22 <= day <= 31 or month == 'Май' and 0 <= day <= 20:\n",
    "          print ('Ваш знак зодиака: Телец')\n",
    "elif month == 'Май' and 21 <= day <= 31 or month == 'Июнь' and 0 <= day <= 21:\n",
    "        print ('Ваш знак зодиака: Близнецы')\n",
    "elif month == 'Июнь' and  22 <= day <= 31 or month == 'Июль' and 0 <= day <= 22:\n",
    "        print ('Ваш знак зодиака: Рак')  \n",
    "elif month == 'Июль' and 23 <= day <= 31 or month == 'Август' and 0 <= day <= 23:\n",
    "        print ('Ваш знак зодиака: Лев')\n",
    "elif month == 'Август' and 24 <= day <= 31 or month == 'Сентябрь' and 0 <= day <= 23:\n",
    "        print ('Ваш знак зодиака: Дева')\n",
    "elif month == 'Сентябрь' and 24 <= day <= 31 or month == 'Октябрь'and 0 <= day <= 23:\n",
    "        print ('Ваш знак зодиака: Весы')\n",
    "elif month == 'Октябрь'and 24 <= day <= 31 or month == 'Ноябрь' and 0 <= day <= 22:\n",
    "        print ('Ваш знак зодиака: Скорпион')\n",
    "elif month == 'Ноябрь' and 23 <= day <= 31 or month == 'Декабрь' and 0 <= day <= 21:\n",
    "        print ('Ваш знак зодиака: Стрелец')\n",
    "elif month == 'Декабрь' and 22 <= day <= 31 or month == 'Январь' and 0 <= day <= 20:\n",
    "        print ('Ваш знак зодиака: Козерог')\n",
    "elif month == 'Январь'and 21 <= day <= 31 or month == 'Февраль' and 0 <= day <= 20:\n",
    "        print ('Ваш знак зодиака: Водолей')\n",
    "else:\n",
    "        print ('Ваш знак зодиака: Рыбы')"
   ]
  },
  {
   "cell_type": "code",
   "execution_count": null,
   "metadata": {},
   "outputs": [],
   "source": []
  }
 ],
 "metadata": {
  "kernelspec": {
   "display_name": "Python 3",
   "language": "python",
   "name": "python3"
  },
  "language_info": {
   "codemirror_mode": {
    "name": "ipython",
    "version": 3
   },
   "file_extension": ".py",
   "mimetype": "text/x-python",
   "name": "python",
   "nbconvert_exporter": "python",
   "pygments_lexer": "ipython3",
   "version": "3.8.5"
  }
 },
 "nbformat": 4,
 "nbformat_minor": 4
}
