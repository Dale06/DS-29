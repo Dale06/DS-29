{
 "cells": [
  {
   "cell_type": "code",
   "execution_count": 31,
   "metadata": {},
   "outputs": [
    {
     "name": "stdout",
     "output_type": "stream",
     "text": [
      "Введите день рождения: 22\n",
      "Введите месяц рождения: Март\n",
      "Ваш знак зодиака: Овен\n"
     ]
    }
   ],
   "source": [
    "day = int (input ('Введите день рождения: '))\n",
    "month = input ('Введите месяц рождения: ')\n",
    "if month == 'Март':\n",
    "    if 21 <= day <= 31:\n",
    "        print ('Ваш знак зодиака: Овен')\n",
    "if month == 'Апрель':\n",
    "    if 0 <= day <= 20:\n",
    "        print ('Ваш знак зодиака: Овен')\n",
    "if month == 'Апрель':\n",
    "    if 22 <= day <= 31:\n",
    "        print ('Ваш знак зодиака: Телец')\n",
    "if month == 'Май':\n",
    "    if 0 <= day <= 20:\n",
    "        print ('Ваш знак зодиака: Телец')\n",
    "if month == 'Май':\n",
    "    if 21 <= day <= 31:\n",
    "        print ('Ваш знак зодиака: Близнецы')\n",
    "if month == 'Июнь':\n",
    "    if 0 <= day <= 21:\n",
    "        print ('Ваш знак зодиака: Близнецы')\n",
    "if month == 'Июнь':\n",
    "    if 22 <= day <= 31:\n",
    "        print ('Ваш знак зодиака: Рак')\n",
    "if month == 'Июль':\n",
    "    if 0 <= day <= 22:\n",
    "        print ('Ваш знак зодиака: Рак')  \n",
    "if month == 'Июль':\n",
    "    if 23 <= day <= 31:\n",
    "        print ('Ваш знак зодиака: Лев')\n",
    "if month == 'Август':\n",
    "    if 0 <= day <= 23:\n",
    "        print ('Ваш знак зодиака: Лев')\n",
    "if month == 'Август':\n",
    "    if 24 <= day <= 31:\n",
    "        print ('Ваш знак зодиака: Дева')\n",
    "if month == 'Сентябрь':\n",
    "    if 0 <= day <= 23:\n",
    "        print ('Ваш знак зодиака: Дева')\n",
    "if month == 'Сентябрь':\n",
    "    if 24 <= day <= 31:\n",
    "        print ('Ваш знак зодиака: Весы')\n",
    "if month == 'Октябрь':\n",
    "    if 0 <= day <= 23:\n",
    "        print ('Ваш знак зодиака: Весы')\n",
    "if month == 'Октябрь':\n",
    "    if 24 <= day <= 31:\n",
    "        print ('Ваш знак зодиака: Скорпион')\n",
    "if month == 'Ноябрь':\n",
    "    if 0 <= day <= 22:\n",
    "        print ('Ваш знак зодиака: Скорпион')\n",
    "if month == 'Ноябрь':\n",
    "    if 23 <= day <= 31:\n",
    "        print ('Ваш знак зодиака: Стрелец')\n",
    "if month == 'Декабрь':\n",
    "    if 0 <= day <= 21:\n",
    "        print ('Ваш знак зодиака: Стрелец')\n",
    "if month == 'Декабрь':\n",
    "    if 22 <= day <= 31:\n",
    "        print ('Ваш знак зодиака: Козерог')\n",
    "if month == 'Январь':\n",
    "    if 0 <= day <= 20:\n",
    "        print ('Ваш знак зодиака: Козерог')\n",
    "if month == 'Январь':\n",
    "    if 21 <= day <= 31:\n",
    "        print ('Ваш знак зодиака: Водолей')\n",
    "if month == 'Февраль':\n",
    "    if 0 <= day <= 20:\n",
    "        print ('Ваш знак зодиака: Водолей')\n",
    "if month == 'Февраль':\n",
    "    if 21 <= day <= 31:\n",
    "        print ('Ваш знак зодиака: Рыбы')\n",
    "if month == 'Март':\n",
    "    if 0 <= day <= 20:\n",
    "        print ('Ваш знак зодиака: Рыбы')"
   ]
  },
  {
   "cell_type": "code",
   "execution_count": null,
   "metadata": {},
   "outputs": [],
   "source": []
  }
 ],
 "metadata": {
  "kernelspec": {
   "display_name": "Python 3",
   "language": "python",
   "name": "python3"
  },
  "language_info": {
   "codemirror_mode": {
    "name": "ipython",
    "version": 3
   },
   "file_extension": ".py",
   "mimetype": "text/x-python",
   "name": "python",
   "nbconvert_exporter": "python",
   "pygments_lexer": "ipython3",
   "version": "3.8.5"
  }
 },
 "nbformat": 4,
 "nbformat_minor": 4
}
