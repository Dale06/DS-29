{
 "cells": [
  {
   "cell_type": "code",
   "execution_count": 23,
   "metadata": {},
   "outputs": [
    {
     "name": "stdout",
     "output_type": "stream",
     "text": [
      "Введите год: 2020\n",
      "Введите количество дней в году: 36\n",
      "Ненормальный год))))\n"
     ]
    }
   ],
   "source": [
    "year = int(input('Введите год: '))\n",
    "days = int(input('Введите количество дней в году: '))\n",
    "if year % 4 == 0 and days == 366:\n",
    "    print ('Високосный год')\n",
    "elif days == 365:\n",
    "    print ('Обычный год')\n",
    "else:\n",
    "    print ('Ненормальный год))))')"
   ]
  },
  {
   "cell_type": "code",
   "execution_count": null,
   "metadata": {},
   "outputs": [],
   "source": []
  }
 ],
 "metadata": {
  "kernelspec": {
   "display_name": "Python 3",
   "language": "python",
   "name": "python3"
  },
  "language_info": {
   "codemirror_mode": {
    "name": "ipython",
    "version": 3
   },
   "file_extension": ".py",
   "mimetype": "text/x-python",
   "name": "python",
   "nbconvert_exporter": "python",
   "pygments_lexer": "ipython3",
   "version": "3.8.5"
  }
 },
 "nbformat": 4,
 "nbformat_minor": 4
}
