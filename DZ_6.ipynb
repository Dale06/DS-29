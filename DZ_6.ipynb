{
 "cells": [
  {
   "cell_type": "code",
   "execution_count": 16,
   "metadata": {},
   "outputs": [
    {
     "name": "stdout",
     "output_type": "stream",
     "text": [
      "Введите тип фигуры: Прямоугольник\n",
      "Введите сторону A: 10\n",
      "Введите сторону B: 20\n",
      "Площадь прямоугольника: 200\n"
     ]
    }
   ],
   "source": [
    "figura = input ('Введите тип фигуры: ')\n",
    "if figura == 'Круг':\n",
    "    a = int (input ('Введите радиус круга: '))\n",
    "    s_circle = 3.14 * (a ** 2)\n",
    "    print ('Площадь круга:' , s_circle)\n",
    "if figura == 'Треугольник':\n",
    "    storona_1 = int (input ('Введите сторону 1: '))\n",
    "    storona_2 = int (input ('Введите сторону 2: '))\n",
    "    storona_3 = int (input ('Введите сторону 3: '))\n",
    "    p_triangle = (storona_1 + storona_2 + storona_3)/2\n",
    "    s_triangle = (p_triangle * ((p_triangle - storona_1)*(p_triangle - storona_2)*(p_triangle - storona_3)))**.5\n",
    "    print ('Площадь треугольника:' , s_triangle)\n",
    "if figura == 'Прямоугольник':\n",
    "    storona_A = int (input ('Введите сторону A: '))\n",
    "    storona_B = int (input ('Введите сторону B: '))\n",
    "    s_rectangle = storona_A * storona_B \n",
    "    print ('Площадь прямоугольника:' , s_rectangle)"
   ]
  },
  {
   "cell_type": "code",
   "execution_count": null,
   "metadata": {},
   "outputs": [],
   "source": []
  }
 ],
 "metadata": {
  "kernelspec": {
   "display_name": "Python 3",
   "language": "python",
   "name": "python3"
  },
  "language_info": {
   "codemirror_mode": {
    "name": "ipython",
    "version": 3
   },
   "file_extension": ".py",
   "mimetype": "text/x-python",
   "name": "python",
   "nbconvert_exporter": "python",
   "pygments_lexer": "ipython3",
   "version": "3.8.5"
  }
 },
 "nbformat": 4,
 "nbformat_minor": 4
}
