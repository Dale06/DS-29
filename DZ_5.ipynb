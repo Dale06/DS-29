{
 "cells": [
  {
   "cell_type": "code",
   "execution_count": 80,
   "metadata": {},
   "outputs": [
    {
     "name": "stdout",
     "output_type": "stream",
     "text": [
      "Введите шестизначный номер проездного билета: 505505\n",
      "СЧАСТЛИВЫЙ БИЛЕТ\n"
     ]
    }
   ],
   "source": [
    "ticket = (input('Введите шестизначный номер проездного билета: ' ))\n",
    "lenght_ticket = len(ticket)\n",
    "lenght_ticket == 6\n",
    "if int (str(ticket)[0]) + int(str(ticket)[1]) + int(str(ticket)[2]) == int(str(ticket)[3]) + int(str(ticket)[4]) + int(str(ticket)[5]):\n",
    "    print ('СЧАСТЛИВЫЙ БИЛЕТ')\n",
    "else:\n",
    "    print ('НЕСЧАСТЛИВЫЙ БИЛЕТ')\n"
   ]
  },
  {
   "cell_type": "code",
   "execution_count": null,
   "metadata": {},
   "outputs": [],
   "source": []
  }
 ],
 "metadata": {
  "kernelspec": {
   "display_name": "Python 3",
   "language": "python",
   "name": "python3"
  },
  "language_info": {
   "codemirror_mode": {
    "name": "ipython",
    "version": 3
   },
   "file_extension": ".py",
   "mimetype": "text/x-python",
   "name": "python",
   "nbconvert_exporter": "python",
   "pygments_lexer": "ipython3",
   "version": "3.8.5"
  }
 },
 "nbformat": 4,
 "nbformat_minor": 4
}
