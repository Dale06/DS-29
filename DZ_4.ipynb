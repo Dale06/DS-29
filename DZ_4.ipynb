{
 "cells": [
  {
   "cell_type": "code",
   "execution_count": 42,
   "metadata": {},
   "outputs": [
    {
     "name": "stdout",
     "output_type": "stream",
     "text": [
      "Введите ширину: 80\n",
      "Введите длину: 150\n",
      "Введите высоту: 99\n",
      "Стандартная коробка № 3\n"
     ]
    }
   ],
   "source": [
    "width = int (input ('Введите ширину: '))\n",
    "length = int (input ('Введите длину: '))\n",
    "height = int (input ('Введите высоту: '))\n",
    "if 0 < width < 15 and 0 < length <15 and 0 < height < 15:\n",
    "    print ('Коробка №1')\n",
    "if 15 <= width <= 50: \n",
    "    if 15 <= length <= 50: \n",
    "        if 15 <= height <= 50:\n",
    "            print ('Коробка №2')\n",
    "if length > 200:\n",
    "    print ('Упаковка для лыж')\n",
    "else: \n",
    "    print ('Стандартная коробка № 3')\n",
    "\n",
    "    \n",
    "\n"
   ]
  },
  {
   "cell_type": "code",
   "execution_count": null,
   "metadata": {},
   "outputs": [],
   "source": []
  }
 ],
 "metadata": {
  "kernelspec": {
   "display_name": "Python 3",
   "language": "python",
   "name": "python3"
  },
  "language_info": {
   "codemirror_mode": {
    "name": "ipython",
    "version": 3
   },
   "file_extension": ".py",
   "mimetype": "text/x-python",
   "name": "python",
   "nbconvert_exporter": "python",
   "pygments_lexer": "ipython3",
   "version": "3.8.5"
  }
 },
 "nbformat": 4,
 "nbformat_minor": 4
}
